{
 "cells": [
  {
   "cell_type": "markdown",
   "metadata": {},
   "source": [
    "With traffic accidents that claim over 40,000 lives a year in EE, it is necessary to investigate the cause to be generated, putting the focus on finding a solution that we can take to avoid accidents or reduce its gravity by analyzing data from the Seattle Department of Transportation.\n",
    "\n",
    "Seattle is the largest city in the state of Washington, in the northwest of the United States of America. The metropolitan area of the city comprises Seattle-Tacoma-Bellevue, the 15th largest country in the country and the largest in the Pacific Northwest. La ciudad is located between Lake Washington and the bay known as Puget Sound, next to the Pacific Ocean. It is located 155 kilometers along the border between the United States and Canada. Important cultural, educational and economic center of the region, Seattle is the seat of King County. In the estimated 2018 census, the city had a municipal population of 744,955 inhabitants, so it is the twentieth most populous city in the United States, and a metropolitan area of 3,263,497 inhabitants.\n",
    "\n",
    "After an economic recession between 2007 and 2009, Seattle won a median of 15,000 residents per year for the next 5 years. When Amazon.com transferred its headquarters to South Lake Union, the construction was completed, resulting in the completion of 10,000 apartments in Seattle in 2017 (more than any previous year and in 2016). Even though I performed 9% to 3.6%, the city was hitting and having the sixth traffic at peak hours.\n",
    "\n",
    "Seattle's climate is mild, with a moderate temperature by the sea, protected from winds and storms by mountains. The city of Seattle has a reputation for its frequent rains, even \"the city of rain\" only receives 970 mm of precipitation per year, unless all the major cities of the east coast of the United States, as for example the city of the United States. New York, which receives an average of 1200 mm. There was also much more than in other places in the world like Madrid (430 mm) or Ciudad de México (830 mm). The worldwide fame of the rains in Seattle is due to the fact that, just like in London, all the precipitation falls in the form of the luvizna the lluvia ligera, given that Seattle is in the orographic shadow of the Olympic mountains. The sea, even with regularity, is not very strong. The majority of the rains fall from November to March. Diciembre es el mes más lluvioso.\n",
    "\n",
    "In 2000, the state of Washington adopted \"Target Zero\", a plan designed to end the lives of people affected by traffic accidents and serious injuries for 2030. The impulse for bad insurance calls expanded to \"Vision Zero\" in Seattle in 2015 , after collaborating with the state and achieving a reduction of 28% in women and serious injuries in Aurora Avenue North. Originally implemented in Sweden in the 1990s, Vision Zero has proven to be successful across Europe, and in many cities in the United States. UU. Han signed the idea that even a single sole caused by these accidents is unacceptable and preventable. This studio is expected to reveal what measures, if any, we can take as individuals and municipalities to make traveling in Seattle safe."
   ]
  }
 ],
 "metadata": {
  "kernelspec": {
   "display_name": "Python 3",
   "language": "python",
   "name": "python3"
  },
  "language_info": {
   "codemirror_mode": {
    "name": "ipython",
    "version": 3
   },
   "file_extension": ".py",
   "mimetype": "text/x-python",
   "name": "python",
   "nbconvert_exporter": "python",
   "pygments_lexer": "ipython3",
   "version": "3.7.6"
  }
 },
 "nbformat": 4,
 "nbformat_minor": 4
}
